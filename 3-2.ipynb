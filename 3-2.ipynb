{
 "cells": [
  {
   "metadata": {},
   "cell_type": "markdown",
   "source": "Write a program to check a person is eligible for voting or not (saccept age from user)",
   "id": "fc6a6070fb952cd8"
  },
  {
   "metadata": {},
   "cell_type": "code",
   "outputs": [],
   "execution_count": null,
   "source": [
    "age = eval(input(\"Enter your age: \"))\n",
    "if age >= 18:\n",
    "    print(\"You are old enough\")\n",
    "else:\n",
    "    print(\"You are young\")"
   ],
   "id": "54d17d17e1cdb603"
  },
  {
   "metadata": {},
   "cell_type": "markdown",
   "source": "Write a program to check whether a number entered by user is even or odd.",
   "id": "fe4b9c0b5a5e4d0a"
  },
  {
   "metadata": {},
   "cell_type": "code",
   "outputs": [],
   "execution_count": null,
   "source": [
    "number = int(input(\"Enter a number: \"))\n",
    "chek = number %2\n",
    "if chek == 0:\n",
    "    print(\"The number is even\")\n",
    "else:\n",
    "    print(\"The number is odd\")"
   ],
   "id": "c68750e412eabd1a"
  },
  {
   "metadata": {},
   "cell_type": "markdown",
   "source": "Write a program to check whether a number is divisible by 7 or not.",
   "id": "37e8773174b4892"
  },
  {
   "metadata": {},
   "cell_type": "code",
   "outputs": [],
   "execution_count": null,
   "source": [
    "\n",
    "a = int(input(\"Nhap 1 so bat ky\"))\n",
    "if a % 7 ==0:\n",
    "    print(\"So chia het cho 7\")\n",
    "else:\n",
    "    print(\"Not\")"
   ],
   "id": "7ac9a9c3ebed453c"
  },
  {
   "metadata": {},
   "cell_type": "markdown",
   "source": "Write a program to check the last digit od a  number (entered by user) is divisible by 3 or not.",
   "id": "c13b58faa9d79de5"
  },
  {
   "metadata": {},
   "cell_type": "code",
   "outputs": [],
   "execution_count": null,
   "source": [
    "a = int(input(\"Nhap 1 so bat ky\"))\n",
    "b = a % 10\n",
    "if b % 3 == 0:\n",
    "    print(\"Chia het cho 3\")\n",
    "else:\n",
    "    print(\"Ko\")"
   ],
   "id": "5759964069747cef"
  },
  {
   "metadata": {},
   "cell_type": "markdown",
   "source": "Write a Python program to guess a number between 1 and 9.",
   "id": "c44660293f466a49"
  },
  {
   "metadata": {},
   "cell_type": "code",
   "outputs": [],
   "execution_count": null,
   "source": [
    "\n",
    "num = random.randint(1, 9)\n",
    "print(num)\n",
    "guess = int(input(\"Doan 1 so bat ky 1-9: \"))\n",
    "while num != guess:\n",
    "    print(f\"Wrong, {num}\")\n",
    "    guess = int(input(\"Doan 1 so bat ky 1-9: \"))\n",
    "print(\"You are genius!\")"
   ],
   "id": "f75305123763c101"
  },
  {
   "metadata": {},
   "cell_type": "markdown",
   "source": "Write a program to accept a number from 1 to 7 and display the name of the day like 1 for Sunday, 2 for Monday and so on.",
   "id": "d5b8d04b11585beb"
  },
  {
   "metadata": {
    "ExecuteTime": {
     "end_time": "2025-04-11T18:00:01.904417Z",
     "start_time": "2025-04-11T17:59:58.918359Z"
    }
   },
   "cell_type": "code",
   "source": [
    "day = int(input(\"Nhap 1 so bat ky: \"))\n",
    "while day < 7:\n",
    "    if day == 1:\n",
    "        print(\"Hom nay la Sunday\")\n",
    "        break\n",
    "    if day == 2:\n",
    "        print(\"Hom nay la Monday\")\n",
    "        break\n",
    "    if day == 3:\n",
    "        print(\"Hom nay la Tuesday\")\n",
    "        break\n",
    "    if day == 4:\n",
    "        print(\"Hom nay la Wednesday\")\n",
    "        break\n",
    "    if day == 5:\n",
    "        print(\"Hom nay la Thursday\")\n",
    "        break\n",
    "    if day == 6:\n",
    "        print(\"Hom nay la Friday\")\n",
    "        break\n",
    "    if day == 7:\n",
    "        print(\"Hom nay la Saturday\")\n",
    "        break\n",
    "print(\"End\")\n"
   ],
   "id": "5e75bd022cfb2d8f",
   "outputs": [
    {
     "name": "stdout",
     "output_type": "stream",
     "text": [
      "Hom nay la Sunday\n",
      "End\n"
     ]
    }
   ],
   "execution_count": 2
  }
 ],
 "metadata": {
  "kernelspec": {
   "display_name": "Python 3",
   "language": "python",
   "name": "python3"
  },
  "language_info": {
   "codemirror_mode": {
    "name": "ipython",
    "version": 2
   },
   "file_extension": ".py",
   "mimetype": "text/x-python",
   "name": "python",
   "nbconvert_exporter": "python",
   "pygments_lexer": "ipython2",
   "version": "2.7.6"
  }
 },
 "nbformat": 4,
 "nbformat_minor": 5
}
