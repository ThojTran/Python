{
 "cells": [
  {
   "metadata": {},
   "cell_type": "markdown",
   "source": "1.Write a  Python program to calculate the length of a string.",
   "id": "b864ddbe0110a49a"
  },
  {
   "metadata": {},
   "cell_type": "code",
   "outputs": [],
   "execution_count": null,
   "source": [
    "\n",
    "import string\n",
    "\n",
    "a = input('Enter your name: ')\n",
    "    # print(len(a))"
   ],
   "id": "7f1dc428cd03f595"
  },
  {
   "metadata": {},
   "cell_type": "markdown",
   "source": [
    "2. Write a Python program to count the number of characters (character frequency) in a string.\n",
    "Sample String : google.com'.\n",
    "Expected Result : {'g': 2, 'o': 3, 'l': 1, 'e': 1, '.': 1, 'c': 1, 'm': 1}"
   ],
   "id": "7caeafb07dd9047f"
  },
  {
   "metadata": {
    "ExecuteTime": {
     "end_time": "2025-04-03T04:30:41.643562Z",
     "start_time": "2025-04-03T04:30:41.635745Z"
    }
   },
   "cell_type": "code",
   "source": [
    "b = \"google.com\"\n",
    "b_list = list(b)\n",
    "b_court = []\n",
    "for i in range(len(b_list)):\n",
    "    if b_list[i] not in b_court:\n",
    "        k = 1\n",
    "        for j in range(i +1, len(b_list)):\n",
    "            if b_list[i] == b_list[j]:\n",
    "                k +=1\n",
    "        b_court.append(b_list[i])\n",
    "        print(f'{b_court[-1]}: {k}')"
   ],
   "id": "1c92e29ec7b32bdc",
   "outputs": [
    {
     "name": "stdout",
     "output_type": "stream",
     "text": [
      "g: 2\n",
      "o: 3\n",
      "l: 1\n",
      "e: 1\n",
      ".: 1\n",
      "c: 1\n",
      "m: 1\n"
     ]
    }
   ],
   "execution_count": 6
  },
  {
   "metadata": {},
   "cell_type": "markdown",
   "source": [
    "3. Write a  Python program to get a string made of the first 2 and last 2 characters of a given string. If the string length is less than 2,\n",
    "return the empty string instead.\n",
    "Sample String : 'w3resource'\n",
    "Expected Result : 'w3ce'\n",
    "Sample String : 'w3'\n",
    "Expected Result : 'w3w3'\n",
    "Sample String : ' w'\n",
    "Expected Result : Empty String"
   ],
   "id": "d36004f7c90fd178"
  },
  {
   "metadata": {
    "ExecuteTime": {
     "end_time": "2025-04-01T16:11:32.941793Z",
     "start_time": "2025-04-01T16:11:29.261945Z"
    }
   },
   "cell_type": "code",
   "source": [
    "c = input('Enter your name: ')\n",
    "if len(c) < 2:\n",
    "    print(\"\")\n",
    "first_c = c[:2]\n",
    "last_c = c[-2:]\n",
    "both_c = first_c + last_c\n",
    "print(both_c)\n"
   ],
   "id": "a071e2baa2e2d019",
   "outputs": [
    {
     "name": "stdout",
     "output_type": "stream",
     "text": [
      "ghnt\n"
     ]
    }
   ],
   "execution_count": 4
  },
  {
   "metadata": {},
   "cell_type": "markdown",
   "source": [
    "4.Write a  Python program to get a string from a given string where all occurrences of its first\n",
    "char have been changed to '$', except the first char itself.\n",
    "Sample String : 'restart'\n",
    "Expected Result : 'resta$t'"
   ],
   "id": "afd21f5f5487f805"
  },
  {
   "metadata": {
    "ExecuteTime": {
     "end_time": "2025-04-01T16:34:44.923204Z",
     "start_time": "2025-04-01T16:34:44.919636Z"
    }
   },
   "cell_type": "code",
   "source": [
    "d = 'restart'\n",
    "result_4 = d[:5]+ d[5:].replace(d[0],'$')\n",
    "print(result_4)"
   ],
   "id": "ab24be51af008e19",
   "outputs": [
    {
     "name": "stdout",
     "output_type": "stream",
     "text": [
      "resta$t\n"
     ]
    }
   ],
   "execution_count": 7
  },
  {
   "metadata": {},
   "cell_type": "markdown",
   "source": [
    "5.Write a  Python program to get a single string from two given strings, separated by a space and\n",
    "swap the first two characters of each string.\n",
    "Sample String : 'abc', 'xyz'\n",
    "Expected Result : 'xyc abz'"
   ],
   "id": "ef39853698e89a77"
  },
  {
   "metadata": {},
   "cell_type": "code",
   "outputs": [],
   "execution_count": null,
   "source": [
    "a = 'abc'\n",
    "b = 'xyz'\n",
    "first_a = a[:2] + b[2:]\n",
    "first_b = b[:2]+  a[2:]\n",
    "print(first_b + ' ' + first_a)"
   ],
   "id": "f230b9981cc986cd"
  },
  {
   "metadata": {},
   "cell_type": "markdown",
   "source": [
    "6. Write a Python program to add 'ing' at the end of a given string (length should be at least 3). If\n",
    "the given string already ends with 'ing', add 'ly' instead. If the string length of the given string is\n",
    "less than 3, leave it unchanged.\n",
    "Sample String : 'abc'\n",
    "Expected Result : 'abcing'\n",
    "Sample String : 'string'\n",
    "Expected Result : 'stringly'"
   ],
   "id": "1cc2f0c6179cf86a"
  },
  {
   "metadata": {},
   "cell_type": "code",
   "outputs": [],
   "execution_count": null,
   "source": [
    "a = input(\"Enter your name: \")\n",
    "if len(a) < 3:\n",
    "    print(\" \")\n",
    "if a.endswith('ing'):\n",
    "    print(a + 'ly')\n",
    "else:\n",
    "    print(a + 'ing')"
   ],
   "id": "4995504dbc22818"
  },
  {
   "metadata": {},
   "cell_type": "markdown",
   "source": [
    "7.Write a  Python program to find the first appearance of the substrings 'not' and 'poor' in a given\n",
    "string. If 'not' follows 'poor', replace the whole 'not'...'poor' substring with 'good'. Return the\n",
    "resulting string."
   ],
   "id": "d561ec55dbd3e61a"
  },
  {
   "metadata": {},
   "cell_type": "code",
   "outputs": [],
   "execution_count": null,
   "source": [
    "a = \"The lyrics is not that poor!\"\n",
    "b = \"The lyrics is poor!\"\n",
    "\n",
    "first_a = a.find(\"not\")\n",
    "sen_a = a.find(\"poor\")\n",
    "if first_a >= 1 and sen_a >= 1 and first_a< sen_a:\n",
    "    result_7 = a[:first_a] + 'good ' + a[sen_a+ len('poor'):]\n",
    "    print(result_7)\n",
    "else:\n",
    "    print(b)"
   ],
   "id": "18793188ffc1525d"
  },
  {
   "metadata": {},
   "cell_type": "markdown",
   "source": [
    "9. Write a  Python function that takes a list of words and return the longest word and the length\n",
    "of the longest one.\n",
    "Sample Output:\n",
    "Longest word: Exercises\n",
    "Length of the longest word: 9"
   ],
   "id": "46bde0e281a4e583"
  },
  {
   "metadata": {
    "ExecuteTime": {
     "end_time": "2025-04-02T06:29:12.935500Z",
     "start_time": "2025-04-02T06:29:12.929497Z"
    }
   },
   "cell_type": "code",
   "source": [
    "a= list((\"tho\",\"tao là số một kkkk\", \"m tuổi tôm\"))\n",
    "print(a)\n",
    "print(len(a))\n",
    "longest = max(a, key=len)\n",
    "print(len(longest))"
   ],
   "id": "38202372f67f3146",
   "outputs": [
    {
     "name": "stdout",
     "output_type": "stream",
     "text": [
      "['tho', 'tao là số một kkkk', 'm tuổi tôm']\n",
      "3\n",
      "tao là số một kkkk\n"
     ]
    }
   ],
   "execution_count": 13
  },
  {
   "metadata": {},
   "cell_type": "markdown",
   "source": "9. Write a Python program to remove the nth index character from a nonempty string.\n",
   "id": "1f4c27c13d7b0b5a"
  },
  {
   "metadata": {
    "ExecuteTime": {
     "end_time": "2025-04-02T06:39:24.001252Z",
     "start_time": "2025-04-02T06:39:23.995816Z"
    }
   },
   "cell_type": "code",
   "source": [
    "a = list(('Tho', 'Cam', 'Quýt'))\n",
    "a.remove('Tho')\n",
    "print(a)"
   ],
   "id": "92d2358658c30f02",
   "outputs": [
    {
     "name": "stdout",
     "output_type": "stream",
     "text": [
      "['Cam', 'Quýt']\n"
     ]
    }
   ],
   "execution_count": 14
  },
  {
   "metadata": {},
   "cell_type": "markdown",
   "source": [
    "10. Write a  Python program to change a given string to a newly string where the first and last\n",
    "chars have been exchanged."
   ],
   "id": "df87147ba16e8b02"
  },
  {
   "metadata": {
    "ExecuteTime": {
     "end_time": "2025-04-02T06:48:41.415455Z",
     "start_time": "2025-04-02T06:48:36.415869Z"
    }
   },
   "cell_type": "code",
   "source": [
    "a = input(\"Enter your name: \")\n",
    "b = a[-1] + a[1:-1] + a[0]\n",
    "print(b)"
   ],
   "id": "b1b32d287e420bc2",
   "outputs": [
    {
     "name": "stdout",
     "output_type": "stream",
     "text": [
      "ihodeptrat\n"
     ]
    }
   ],
   "execution_count": 17
  },
  {
   "metadata": {},
   "cell_type": "markdown",
   "source": "11. Write a Python program to remove characters that have odd index values in a given string.",
   "id": "c451ff8afbe3fb6d"
  },
  {
   "metadata": {
    "ExecuteTime": {
     "end_time": "2025-04-03T07:29:06.143192Z",
     "start_time": "2025-04-03T07:29:01.243242Z"
    }
   },
   "cell_type": "code",
   "source": [
    "a = input(\"Enter your name: \")\n",
    "result = \"\"\n",
    "for i in range(len(a)):\n",
    "    if i % 2 == 0:\n",
    "        result += a[i]\n",
    "print(result)"
   ],
   "id": "890170302e8aa759",
   "outputs": [
    {
     "name": "stdout",
     "output_type": "stream",
     "text": [
      "toeta\n"
     ]
    }
   ],
   "execution_count": 40
  },
  {
   "metadata": {},
   "cell_type": "markdown",
   "source": "12. Write a Python program to count the occurrences of each word in a given sentence.",
   "id": "c27191828d9370c"
  },
  {
   "metadata": {
    "ExecuteTime": {
     "end_time": "2025-04-03T05:17:30.689882Z",
     "start_time": "2025-04-03T05:17:21.816813Z"
    }
   },
   "cell_type": "code",
   "source": [
    "b = input(\"Enter your name: \")\n",
    "print(b)\n",
    "b_court = {}\n",
    "b_word = b.split()\n",
    "for i in b_word:\n",
    "    if i in b_court:\n",
    "        b_court[i] += 1\n",
    "    else:\n",
    "        b_court[i] = 1\n",
    "print(f\"{b_court}\")"
   ],
   "id": "e5f425e4469aee5d",
   "outputs": [
    {
     "name": "stdout",
     "output_type": "stream",
     "text": [
      "Tao la so mot Tao dep rai\n",
      "{'Tao': 2, 'la': 1, 'so': 1, 'mot': 1, 'dep': 1, 'rai': 1}\n"
     ]
    }
   ],
   "execution_count": 3
  },
  {
   "metadata": {},
   "cell_type": "markdown",
   "source": [
    "13. Write a  Python  script that takes input from the user and displays that input back in upper\n",
    "and lower cases."
   ],
   "id": "bb39022777c9ee7d"
  },
  {
   "metadata": {},
   "cell_type": "code",
   "outputs": [],
   "execution_count": null,
   "source": [
    "a = input('Enter your name: ')\n",
    "print(a.upper())\n",
    "print(a.lower())\n"
   ],
   "id": "59623ba3961546a6"
  },
  {
   "metadata": {},
   "cell_type": "markdown",
   "source": [
    "white    14. Write a Python program that accepts a comma-separated sequence of words as input and\n",
    "prints the distinct words in sorted form (alphanumerically).\n",
    "Sample Words : red, white, black, red, green, black\n",
    "Expected Result : black, green, red, white,red"
   ],
   "id": "24e6f63fd83b4af6"
  },
  {
   "metadata": {
    "ExecuteTime": {
     "end_time": "2025-04-03T06:17:59.428670Z",
     "start_time": "2025-04-03T06:17:59.415292Z"
    }
   },
   "cell_type": "code",
   "source": [
    "a = 'red white black red green black'\n",
    "a_court = a.split()\n",
    "print(a_court)\n",
    "a_words = sorted(set(a_court))\n",
    "print(a_words)"
   ],
   "id": "aca5cc4055a5be38",
   "outputs": [
    {
     "name": "stdout",
     "output_type": "stream",
     "text": [
      "['red', 'white', 'black', 'red', 'green', 'black']\n",
      "['black', 'green', 'red', 'white']\n"
     ]
    }
   ],
   "execution_count": 16
  },
  {
   "metadata": {},
   "cell_type": "markdown",
   "source": [
    "15. Write a  Python function to create an HTML string with tags around the word(s).\n",
    "Sample function and result :\n",
    "add_tags('i', 'Python') -> '<i>Python</i>'\n",
    "add_tags('b', 'Python Tutorial') -> '<b>Python Tutorial </b>'"
   ],
   "id": "4274a1b4aa35396"
  },
  {
   "metadata": {
    "ExecuteTime": {
     "end_time": "2025-04-03T06:33:30.174782Z",
     "start_time": "2025-04-03T06:33:22.517237Z"
    }
   },
   "cell_type": "code",
   "source": [
    "tag = input('Enter your name: ')\n",
    "a = input('Enter your name: ')\n",
    "print(f\"'{tag}' '{a}' -> '<{tag}>{a}</{tag}>'\" )\n"
   ],
   "id": "ccb8cde98d18d781",
   "outputs": [
    {
     "name": "stdout",
     "output_type": "stream",
     "text": [
      "'Python' 'i' -> '<Python>i</Python>'\n"
     ]
    }
   ],
   "execution_count": 18
  },
  {
   "metadata": {},
   "cell_type": "markdown",
   "source": [
    "16. Write a Python function to insert a string in the middle of a string.\n",
    "Sample function and result :\n",
    "insert_sting_middle('[[]]<<>>', ' Python') -> [[Python]]\n",
    "insert_sting_middle('{{}}', 'PHP') -> {{PHP}}"
   ],
   "id": "aa532a3c869404c3"
  },
  {
   "metadata": {
    "ExecuteTime": {
     "end_time": "2025-04-03T07:02:56.621872Z",
     "start_time": "2025-04-03T07:02:56.606652Z"
    }
   },
   "cell_type": "code",
   "source": [
    "def insert_string_middle(str, word):\n",
    "    return str[:2] + word + str[2:]\n",
    "print(insert_string_middle('{{}}', 'Python'))\n",
    "print(insert_string_middle('[[]]', 'PHP'))"
   ],
   "id": "65a191f9a8de9a8f",
   "outputs": [
    {
     "name": "stdout",
     "output_type": "stream",
     "text": [
      "{{Python}}\n",
      "[[PHP]]\n"
     ]
    }
   ],
   "execution_count": 24
  },
  {
   "metadata": {},
   "cell_type": "markdown",
   "source": [
    "17. Write a Python function to get a string made of 4 copies of the last two characters of a\n",
    "specified string (length must be at least 2).\n",
    "Sample function and result :\n",
    "insert_end('Python') -> onononon\n",
    "insert_end('Exercises') -> eseseses"
   ],
   "id": "b13120a461653e24"
  },
  {
   "metadata": {
    "ExecuteTime": {
     "end_time": "2025-04-03T07:11:14.981142Z",
     "start_time": "2025-04-03T07:11:14.973874Z"
    }
   },
   "cell_type": "code",
   "source": [
    "a = \"Python\"\n",
    "a_list = list(a)\n",
    "if len(a_list) < 2:\n",
    "    print(a)\n",
    "else:\n",
    "    b = 4 * list(a)[-2:]\n",
    "    print(\"\".join(b))"
   ],
   "id": "8da80da21ddf3e35",
   "outputs": [
    {
     "name": "stdout",
     "output_type": "stream",
     "text": [
      "onononon\n"
     ]
    }
   ],
   "execution_count": 31
  },
  {
   "metadata": {},
   "cell_type": "markdown",
   "source": [
    "18. Write a  Python function to get a string made of the first three characters of a specified string.\n",
    "If the length of the string is less than 3, return the original string.\n",
    "Sample function and result :\n",
    "first_three('ipy') -> ipy\n",
    "first_three(' python') -> pyt"
   ],
   "id": "c84d0a40e113e0bf"
  },
  {
   "metadata": {
    "ExecuteTime": {
     "end_time": "2025-04-03T07:17:14.013450Z",
     "start_time": "2025-04-03T07:17:14.004536Z"
    }
   },
   "cell_type": "code",
   "source": [
    "a = \"Python\"\n",
    "if len(a) < 3:\n",
    "    print(a)\n",
    "else:\n",
    "    print(a[:3])"
   ],
   "id": "bdd6ab46ef8bf6ba",
   "outputs": [
    {
     "name": "stdout",
     "output_type": "stream",
     "text": [
      "Pyt\n"
     ]
    }
   ],
   "execution_count": 32
  },
  {
   "metadata": {},
   "cell_type": "markdown",
   "source": [
    "19. Write a Python program to get the last part of a string before a specified character.\n",
    "https://www.w3resource.com/python-exercises\n",
    "https://www.w3resource.com/python"
   ],
   "id": "1f4e78a5c8ae4f2d"
  },
  {
   "metadata": {
    "ExecuteTime": {
     "end_time": "2025-04-03T07:23:18.483210Z",
     "start_time": "2025-04-03T07:23:18.477165Z"
    }
   },
   "cell_type": "code",
   "source": [
    "a = \"https://www.w3resource.com/python-exercises\"\n",
    "print(a.rsplit(\"-\",1))"
   ],
   "id": "d6da2c6f58ff91cc",
   "outputs": [
    {
     "name": "stdout",
     "output_type": "stream",
     "text": [
      "['https://www.w3resource.com/python', 'exercises']\n"
     ]
    }
   ],
   "execution_count": 38
  },
  {
   "metadata": {},
   "cell_type": "markdown",
   "source": "20. Write a  Python function to reverse a string if its length is a multiple of 4.",
   "id": "9d340d8ef06d2880"
  },
  {
   "metadata": {
    "ExecuteTime": {
     "end_time": "2025-04-03T07:31:54.157971Z",
     "start_time": "2025-04-03T07:31:50.559466Z"
    }
   },
   "cell_type": "code",
   "source": [
    "a = input(\"Enter your name: \")\n",
    "if len(a) % 4 == 0:\n",
    "    print(a[::-1])\n",
    "else:\n",
    "    print(a)"
   ],
   "id": "48def4534f85b81",
   "outputs": [
    {
     "name": "stdout",
     "output_type": "stream",
     "text": [
      "doht\n"
     ]
    }
   ],
   "execution_count": 43
  },
  {
   "metadata": {},
   "cell_type": "markdown",
   "source": [
    "21. Write a Python function to convert a given string to all uppercase if it contains at least 2\n",
    "uppercase characters in the first 4 characters"
   ],
   "id": "4b66d796becd24c9"
  },
  {
   "metadata": {
    "ExecuteTime": {
     "end_time": "2025-04-03T16:13:21.697451Z",
     "start_time": "2025-04-03T16:13:15.285588Z"
    }
   },
   "cell_type": "code",
   "source": [
    "a = input(\"Enter your name: \")\n",
    "a_court = a[:4]\n",
    "a_upper = 0\n",
    "for i in a_court:\n",
    "    if i.isupper():\n",
    "        a_upper += 1\n",
    "        if a_upper >=2:\n",
    "            print(a.upper())\n",
    "        else:\n",
    "            print(a)\n"
   ],
   "id": "94d2594c8d39f98",
   "outputs": [
    {
     "name": "stdout",
     "output_type": "stream",
     "text": [
      "ThoDeptrai\n",
      "THODEPTRAI\n"
     ]
    }
   ],
   "execution_count": 2
  },
  {
   "metadata": {},
   "cell_type": "markdown",
   "source": "22.Write a  Python program to sort a string lexicographically.",
   "id": "454b5c680c0d8906"
  },
  {
   "metadata": {
    "ExecuteTime": {
     "end_time": "2025-04-03T08:02:33.859601Z",
     "start_time": "2025-04-03T08:02:25.032248Z"
    }
   },
   "cell_type": "code",
   "source": [
    "a = input(\"Enter your name: \")\n",
    "print(sorted(sorted(a)))"
   ],
   "id": "485759a8aa48781d",
   "outputs": [
    {
     "name": "stdout",
     "output_type": "stream",
     "text": [
      "[' ', 'e', 'h', 'k', 'l', 'l', 'o', 'o', 'r', 'w']\n"
     ]
    }
   ],
   "execution_count": 52
  },
  {
   "metadata": {},
   "cell_type": "markdown",
   "source": "23. Write a Python program to remove a newline in Python.",
   "id": "f15f6f698c1bad3d"
  },
  {
   "metadata": {
    "ExecuteTime": {
     "end_time": "2025-04-03T08:10:02.733660Z",
     "start_time": "2025-04-03T08:09:50.201634Z"
    }
   },
   "cell_type": "code",
   "source": [
    "a = input(\"Enter your name: \\n\")\n",
    "print(a.replace(\"\\n\",\"\"))"
   ],
   "id": "403a5fbd976ca7d0",
   "outputs": [
    {
     "name": "stdout",
     "output_type": "stream",
     "text": [
      "tho dep trai6 mui co bap\n"
     ]
    }
   ],
   "execution_count": 55
  },
  {
   "metadata": {},
   "cell_type": "markdown",
   "source": "24. Write a Python program to check whether a string starts with specified characters.",
   "id": "529f244c7622f6c5"
  },
  {
   "metadata": {
    "ExecuteTime": {
     "end_time": "2025-04-03T08:16:44.845906Z",
     "start_time": "2025-04-03T08:16:37.172889Z"
    }
   },
   "cell_type": "code",
   "source": [
    "a = input(\"Enter your name: \")\n",
    "if not a[0].isalnum():\n",
    "    print(\"Co ky tu dac biet \")\n",
    "else:\n",
    "    print(a)"
   ],
   "id": "18ba7ef4b6996ce",
   "outputs": [
    {
     "name": "stdout",
     "output_type": "stream",
     "text": [
      "Co ky tu dac biet \n"
     ]
    }
   ],
   "execution_count": 62
  },
  {
   "metadata": {},
   "cell_type": "markdown",
   "source": "25. Write a Python program to create a Caesar encryption.",
   "id": "a105992ece1f7fb3"
  },
  {
   "metadata": {
    "ExecuteTime": {
     "end_time": "2025-04-03T16:27:35.551259Z",
     "start_time": "2025-04-03T16:27:26.095912Z"
    }
   },
   "cell_type": "code",
   "source": [
    "a = eval(input(\"Decryption shift: \"))\n",
    "b = input(\"Dòng chữ bạn muốn nhập: \")\n",
    "result = \"\"\n",
    "for i in range(len(b)):\n",
    "    char = b[i]\n",
    "    if (char.isupper()):\n",
    "        result += chr((ord(char) + a-65) % 26 + 65)\n",
    "    else:\n",
    "        result += chr((ord(char) + a-97) % 26 + 97)\n",
    "print(result)\n"
   ],
   "id": "cfc72c815125322e",
   "outputs": [
    {
     "name": "stdout",
     "output_type": "stream",
     "text": [
      "GIEWIVrGMTLIVrHIQS\n"
     ]
    }
   ],
   "execution_count": 6
  },
  {
   "metadata": {},
   "cell_type": "markdown",
   "source": "26. Write a  Python program to display formatted text (width=50) as output",
   "id": "ff98b834f15e8de2"
  },
  {
   "metadata": {
    "ExecuteTime": {
     "end_time": "2025-04-03T16:43:14.144602Z",
     "start_time": "2025-04-03T16:43:14.140229Z"
    }
   },
   "cell_type": "code",
   "source": [
    "import textwrap\n",
    "para = \"\"\"\n",
    "Python is an interpreted, object-oriented, high-level programming language that can be used for a wide variety of applications. Python is a powerful general-purpose programming language. First developed in the late 1980s by Guido van Rossum. Python is open source programming language. Guido van Rossum named it after the BBC Comedy TV series Monty Python’s Flying Circus\n",
    "\"\"\"\n",
    "print(textwrap.fill(para, width=50))"
   ],
   "id": "8d7227116c4ad9bc",
   "outputs": [
    {
     "name": "stdout",
     "output_type": "stream",
     "text": [
      " Python is an interpreted, object-oriented, high-\n",
      "level programming language that can be used for a\n",
      "wide variety of applications. Python is a powerful\n",
      "general-purpose programming language. First\n",
      "developed in the late 1980s by Guido van Rossum.\n",
      "Python is open source programming language. Guido\n",
      "van Rossum named it after the BBC Comedy TV series\n",
      "Monty Python’s Flying Circus\n"
     ]
    }
   ],
   "execution_count": 12
  },
  {
   "metadata": {},
   "cell_type": "markdown",
   "source": "27. Write a  Python program to remove existing indentation from all of the lines in a given text.",
   "id": "84999fe3e6a9e946"
  },
  {
   "metadata": {
    "ExecuteTime": {
     "end_time": "2025-04-03T16:46:59.292513Z",
     "start_time": "2025-04-03T16:46:52.417217Z"
    }
   },
   "cell_type": "code",
   "source": [
    "a= input(\"Enter your name: \")\n",
    "print(a.strip())"
   ],
   "id": "69fde2a2ccddc66f",
   "outputs": [
    {
     "name": "stdout",
     "output_type": "stream",
     "text": [
      "fewfuyffgweufgwe\n"
     ]
    }
   ],
   "execution_count": 13
  },
  {
   "metadata": {},
   "cell_type": "markdown",
   "source": "28. Write a Python program to add prefix text to all of the lines in a string.",
   "id": "e0451ca81895529d"
  },
  {
   "metadata": {
    "ExecuteTime": {
     "end_time": "2025-04-03T17:33:57.473177Z",
     "start_time": "2025-04-03T17:33:45.859182Z"
    }
   },
   "cell_type": "code",
   "source": [
    "a = input(\"Enter your name: \")\n",
    "b= \"<\" + a\n",
    "b.replace(\".\",\"<\")\n",
    "print(b)"
   ],
   "id": "e99249227e85ca4b",
   "outputs": [
    {
     "name": "stdout",
     "output_type": "stream",
     "text": [
      "<thodeptrai\n",
      "6 mu9i \n",
      "co bap\n"
     ]
    }
   ],
   "execution_count": 18
  },
  {
   "metadata": {},
   "cell_type": "markdown",
   "source": "29. Write a Python program to set the indentation of the first line.",
   "id": "ddd53526d58f10ea"
  },
  {
   "metadata": {
    "ExecuteTime": {
     "end_time": "2025-04-03T17:34:56.001408Z",
     "start_time": "2025-04-03T17:34:46.166633Z"
    }
   },
   "cell_type": "code",
   "source": [
    "a=input(\"Enter your name: \")\n",
    "print(f\"\\t{a}\")"
   ],
   "id": "82e71ea6b1c72a91",
   "outputs": [
    {
     "name": "stdout",
     "output_type": "stream",
     "text": [
      "\tthodpetrao\n",
      "6 mui \n",
      "co bap\n"
     ]
    }
   ],
   "execution_count": 19
  },
  {
   "metadata": {},
   "cell_type": "markdown",
   "source": "30. Write a Python program to print the following numbers up to 2 decimal places.",
   "id": "e56f16c593bcc3bd"
  },
  {
   "metadata": {
    "ExecuteTime": {
     "end_time": "2025-04-03T17:54:35.796766Z",
     "start_time": "2025-04-03T17:54:31.813025Z"
    }
   },
   "cell_type": "code",
   "source": [
    "a = eval(input(\"Enter your number: \"))\n",
    "print(f\"{a:.2f}\")"
   ],
   "id": "6bc18499c07c28fa",
   "outputs": [
    {
     "name": "stdout",
     "output_type": "stream",
     "text": [
      "3.55\n"
     ]
    }
   ],
   "execution_count": 20
  },
  {
   "metadata": {},
   "cell_type": "markdown",
   "source": "31. Write a Python program to print the following numbers up to 2 decimal places with a sign.",
   "id": "55e6882bb9f31fce"
  },
  {
   "metadata": {
    "ExecuteTime": {
     "end_time": "2025-04-03T18:01:25.463705Z",
     "start_time": "2025-04-03T18:01:20.518427Z"
    }
   },
   "cell_type": "code",
   "source": [
    "a = eval(input(\"Enter your number: \"))\n",
    "print(f\"{a:.2f}\")"
   ],
   "id": "34f06304f4478852",
   "outputs": [
    {
     "name": "stdout",
     "output_type": "stream",
     "text": [
      "-45843584.44\n"
     ]
    }
   ],
   "execution_count": 23
  },
  {
   "metadata": {},
   "cell_type": "markdown",
   "source": [
    "32. Write a Python program to print the following positive and negative numbers with no\n",
    "decimal places."
   ],
   "id": "857b99a92abc6193"
  },
  {
   "metadata": {
    "ExecuteTime": {
     "end_time": "2025-04-03T18:02:21.466021Z",
     "start_time": "2025-04-03T18:02:21.460798Z"
    }
   },
   "cell_type": "code",
   "source": [
    "a = -10.43756472\n",
    "b = 134.5243542\n",
    "print(f\"{a:.0f}\")\n",
    "print(f\"{b:.0f}\")"
   ],
   "id": "76418a3c3f35f135",
   "outputs": [
    {
     "name": "stdout",
     "output_type": "stream",
     "text": [
      "-10\n",
      "135\n"
     ]
    }
   ],
   "execution_count": 26
  },
  {
   "metadata": {},
   "cell_type": "markdown",
   "source": [
    "33. Write a  Python program to print the following integers with zeros to the left of the specified\n",
    "width."
   ],
   "id": "9df451f007d10ec6"
  },
  {
   "metadata": {
    "ExecuteTime": {
     "end_time": "2025-04-04T05:23:26.269449Z",
     "start_time": "2025-04-04T05:23:26.265438Z"
    }
   },
   "cell_type": "code",
   "source": [
    "a = -10\n",
    "b = 134\n",
    "print(\"{:08d}\".format(a))\n",
    "print(\"{:08d}\".format(b))"
   ],
   "id": "149f74b85af48573",
   "outputs": [
    {
     "name": "stdout",
     "output_type": "stream",
     "text": [
      "-0000010\n",
      "00000134\n"
     ]
    }
   ],
   "execution_count": 3
  },
  {
   "metadata": {},
   "cell_type": "markdown",
   "source": [
    "34. Write a  Python program to print the following integers with '*' to the right of the specified\n",
    "width."
   ],
   "id": "40284aff05f18abe"
  },
  {
   "metadata": {
    "ExecuteTime": {
     "end_time": "2025-04-03T18:08:35.806274Z",
     "start_time": "2025-04-03T18:08:35.802176Z"
    }
   },
   "cell_type": "code",
   "source": [
    "a = -10\n",
    "b = 134\n",
    "print(\"{:*<5d}\".format(a))\n",
    "print(\"{:*<6d}\".format(b))"
   ],
   "id": "671263d0fbef9f4",
   "outputs": [
    {
     "name": "stdout",
     "output_type": "stream",
     "text": [
      "-10**\n",
      "134***\n"
     ]
    }
   ],
   "execution_count": 30
  },
  {
   "metadata": {},
   "cell_type": "markdown",
   "source": "35. Write a Python program to display a number with a comma separator",
   "id": "d521b26d7c94977e"
  },
  {
   "metadata": {
    "ExecuteTime": {
     "end_time": "2025-04-04T05:22:00.487366Z",
     "start_time": "2025-04-04T05:21:57.829691Z"
    }
   },
   "cell_type": "code",
   "source": [
    "a = eval(input(\"Enter your number: \"))\n",
    "print(\"{:,}\".format(a))"
   ],
   "id": "84ac48f68eba4c9c",
   "outputs": [
    {
     "name": "stdout",
     "output_type": "stream",
     "text": [
      "1,000\n"
     ]
    }
   ],
   "execution_count": 2
  },
  {
   "metadata": {},
   "cell_type": "markdown",
   "source": "36. Write a Python program to format a number with a percentage.",
   "id": "900c7f5f610b38d0"
  },
  {
   "metadata": {
    "ExecuteTime": {
     "end_time": "2025-04-04T05:27:45.445917Z",
     "start_time": "2025-04-04T05:27:42.910486Z"
    }
   },
   "cell_type": "code",
   "source": [
    "a = eval(input(\"Enter your number: \"))\n",
    "print(\"{:.0%}\".format(a))"
   ],
   "id": "d267b1b687d4b36a",
   "outputs": [
    {
     "name": "stdout",
     "output_type": "stream",
     "text": [
      "25%\n"
     ]
    }
   ],
   "execution_count": 10
  },
  {
   "metadata": {},
   "cell_type": "markdown",
   "source": "37. Write a Python program to display a number in left, right, and center aligned with a width of",
   "id": "8fff62901399c927"
  },
  {
   "metadata": {
    "ExecuteTime": {
     "end_time": "2025-04-04T05:31:06.881456Z",
     "start_time": "2025-04-04T05:31:04.759844Z"
    }
   },
   "cell_type": "code",
   "source": [
    "a = eval(input(\"Enter your number: \"))\n",
    "print(\"Left\", \"{:<10}\".format(a))\n",
    "print(\"Right\", \"{:>10}\".format(a))\n",
    "print(\"Center\", \"{:^10}\".format(a))"
   ],
   "id": "ede3175e3cc9141c",
   "outputs": [
    {
     "name": "stdout",
     "output_type": "stream",
     "text": [
      "Left 10        \n",
      "Right         10\n",
      "Center     10    \n"
     ]
    }
   ],
   "execution_count": 11
  },
  {
   "metadata": {},
   "cell_type": "markdown",
   "source": "38. Write a Python program to count occurrences of a substring in a string.",
   "id": "a5c2cb0395cd4d18"
  },
  {
   "metadata": {
    "ExecuteTime": {
     "end_time": "2025-04-04T06:10:06.155946Z",
     "start_time": "2025-04-04T06:10:06.152729Z"
    }
   },
   "cell_type": "code",
   "source": [
    "a = \"Thọ đẹp trai số một cơ bắp nhất thế giới. Thọ sẽ trở thành 1 người bạn trai tâm lý \"\n",
    "print(a)\n",
    "print(\"Số lần xuất hiện Thọ trong text trên là \", a.count(\"Thọ\"))\n"
   ],
   "id": "b1fd5710c4cb9b17",
   "outputs": [
    {
     "name": "stdout",
     "output_type": "stream",
     "text": [
      "Thọ đẹp trai số một cơ bắp nhất thế giới. Thọ sẽ trở thành 1 người bạn trai tâm lý \n",
      "Số lần xuất hiện Thọ trong text trên là  2\n"
     ]
    }
   ],
   "execution_count": 13
  },
  {
   "metadata": {},
   "cell_type": "markdown",
   "source": "39. Write a  Python program to reverse a string.",
   "id": "5b89294b01119151"
  },
  {
   "metadata": {
    "ExecuteTime": {
     "end_time": "2025-04-04T06:22:57.697265Z",
     "start_time": "2025-04-04T06:22:54.400127Z"
    }
   },
   "cell_type": "code",
   "source": [
    "a = input(\"Enter your name: \")\n",
    "print(a[::-1])"
   ],
   "id": "92212e2943003465",
   "outputs": [
    {
     "name": "stdout",
     "output_type": "stream",
     "text": [
      "whg0whfguhrewgur\n"
     ]
    }
   ],
   "execution_count": 17
  },
  {
   "metadata": {},
   "cell_type": "markdown",
   "source": "40. Write a Python program to reverse words in a string.",
   "id": "37c87ce6b51a2312"
  },
  {
   "metadata": {
    "ExecuteTime": {
     "end_time": "2025-04-04T06:28:26.524559Z",
     "start_time": "2025-04-04T06:28:23.046804Z"
    }
   },
   "cell_type": "code",
   "source": [
    "a = input(\"Enter your name: \")\n",
    "a = a.strip()\n",
    "words = a.split()\n",
    "result = words[::-1]\n",
    "print(\" \".join(result))"
   ],
   "id": "cbd0f973ea837a0d",
   "outputs": [
    {
     "name": "stdout",
     "output_type": "stream",
     "text": [
      "trai dep Tho\n"
     ]
    }
   ],
   "execution_count": 21
  },
  {
   "metadata": {},
   "cell_type": "markdown",
   "source": [
    "44. Write a  Python program to print the index of a character in a string.\n",
    "Sample string: w3resource\n",
    "Expected output:\n",
    "Current character w position at 0\n",
    "Current character 3 position at 1\n",
    "Current character r position at 2 - - - - - - - - - - - - - - - - - - - - - - - - -\n",
    "Current character c position at 8\n",
    "Current character e position at 9"
   ],
   "id": "13b8ba2c1f267fbe"
  },
  {
   "metadata": {
    "ExecuteTime": {
     "end_time": "2025-04-04T06:39:26.916505Z",
     "start_time": "2025-04-04T06:39:26.913193Z"
    }
   },
   "cell_type": "code",
   "source": [
    "a = \"w3resource\"\n",
    "for i in range(len(a)):\n",
    "    print(f\"Current character {a[i]} position at {i}\")\n"
   ],
   "id": "fc66c3e379937b9b",
   "outputs": [
    {
     "name": "stdout",
     "output_type": "stream",
     "text": [
      "Current character w position at 0\n",
      "Current character 3 position at 1\n",
      "Current character r position at 2\n",
      "Current character e position at 3\n",
      "Current character s position at 4\n",
      "Current character o position at 5\n",
      "Current character u position at 6\n",
      "Current character r position at 7\n",
      "Current character c position at 8\n",
      "Current character e position at 9\n"
     ]
    }
   ],
   "execution_count": 28
  },
  {
   "metadata": {},
   "cell_type": "code",
   "outputs": [],
   "execution_count": null,
   "source": "",
   "id": "72db5d16d2b65d22"
  },
  {
   "metadata": {},
   "cell_type": "markdown",
   "source": "45. Write a  Python program to check whether a string contains all letters of the alphabet.",
   "id": "8330a100b1f1dd1b"
  },
  {
   "metadata": {
    "ExecuteTime": {
     "end_time": "2025-04-04T08:23:14.313152Z",
     "start_time": "2025-04-04T08:23:11.378119Z"
    }
   },
   "cell_type": "code",
   "source": [
    "import string\n",
    "a = input(\"Enter your name: \")\n",
    "check = True\n",
    "for i in string.ascii_lowercase:\n",
    "    if i not in a.lower():\n",
    "        check = False\n",
    "\n",
    "print(check)"
   ],
   "id": "dd7e9713da113a36",
   "outputs": [
    {
     "name": "stdout",
     "output_type": "stream",
     "text": [
      "True\n"
     ]
    }
   ],
   "execution_count": 22
  },
  {
   "metadata": {},
   "cell_type": "markdown",
   "source": [
    "46. Write a Python program to convert a given string into a list of words.\n",
    "Sample Output:\n",
    "['The', 'quick', 'brown', 'fox', 'jumps', 'over', 'the', 'lazy', 'dog.']\n",
    "['The', 'quick', 'brown', 'fox', 'jumps', 'over', 'the', 'lazy', 'dog.']\n"
   ],
   "id": "5f3d62d5b15902b1"
  },
  {
   "metadata": {
    "ExecuteTime": {
     "end_time": "2025-04-04T08:27:45.598218Z",
     "start_time": "2025-04-04T08:27:40.548863Z"
    }
   },
   "cell_type": "code",
   "source": [
    "a = input(\"Enter your name: \")\n",
    "a = a.strip()\n",
    "a_court = a.split()\n",
    "print(a_court)"
   ],
   "id": "f3dfe6cb10f65653",
   "outputs": [
    {
     "name": "stdout",
     "output_type": "stream",
     "text": [
      "['Tho', 'dep', 'trai']\n"
     ]
    }
   ],
   "execution_count": 26
  },
  {
   "metadata": {},
   "cell_type": "markdown",
   "source": "47. Write a  Python program to lowercase the first n characters in a string.",
   "id": "463c63730932abf4"
  },
  {
   "metadata": {
    "ExecuteTime": {
     "end_time": "2025-04-04T08:30:12.135376Z",
     "start_time": "2025-04-04T08:30:08.424387Z"
    }
   },
   "cell_type": "code",
   "source": [
    "a = input(\"Enter your name: \")\n",
    "print(a.lower())"
   ],
   "id": "dfefa4a5503cc286",
   "outputs": [
    {
     "name": "stdout",
     "output_type": "stream",
     "text": [
      "fgjhgejheufefhiewhwuhu\n"
     ]
    }
   ],
   "execution_count": 27
  },
  {
   "metadata": {},
   "cell_type": "markdown",
   "source": [
    "48. Write a Python program to swap commas and dots in a string.\n",
    "Sample string: \"32.054,23\"\n",
    "Expected Output: \"32,054.23\""
   ],
   "id": "bf285332cd41f705"
  },
  {
   "metadata": {
    "ExecuteTime": {
     "end_time": "2025-04-04T08:32:57.733942Z",
     "start_time": "2025-04-04T08:32:57.726306Z"
    }
   },
   "cell_type": "code",
   "source": [
    "a = \"32.054,23\"\n",
    "b = a[:2] + \",\" + a[3:6] + \".\" + a[7:]\n",
    "print(b)\n"
   ],
   "id": "99db847f5eb875c0",
   "outputs": [
    {
     "name": "stdout",
     "output_type": "stream",
     "text": [
      "32,054.23\n"
     ]
    }
   ],
   "execution_count": 31
  },
  {
   "metadata": {},
   "cell_type": "markdown",
   "source": "49. Write a Python program to count and display vowels in text",
   "id": "f77b3d5f4b63dc09"
  },
  {
   "metadata": {
    "ExecuteTime": {
     "end_time": "2025-04-04T08:41:19.170024Z",
     "start_time": "2025-04-04T08:41:15.667812Z"
    }
   },
   "cell_type": "code",
   "source": [
    "a =input(\"Enter your name: \")\n",
    "b = \"aeiouAEIOU\"\n",
    "b_list = []\n",
    "count = 0\n",
    "for i in a:\n",
    "    if i in b:\n",
    "        count += 1\n",
    "        b_list.append(i)\n",
    "print(\"Count:\", count)\n",
    "print(\"vowels:\",b_list)"
   ],
   "id": "1915a47a1a69ea74",
   "outputs": [
    {
     "name": "stdout",
     "output_type": "stream",
     "text": [
      "Count: 7\n",
      "vowels: ['e', 'o', 'o', 'a', 'e', 'o', 'u']\n"
     ]
    }
   ],
   "execution_count": 33
  },
  {
   "metadata": {},
   "cell_type": "markdown",
   "source": "50. Write a Python program to split a string on the last occurrence of the delimiter.",
   "id": "ef2503e00ae73682"
  },
  {
   "metadata": {
    "ExecuteTime": {
     "end_time": "2025-04-04T08:47:56.964630Z",
     "start_time": "2025-04-04T08:47:56.956249Z"
    }
   },
   "cell_type": "code",
   "source": [
    "a = \"t,h,o,t,de,trrf,ytg\"\n",
    "print(a.rsplit(\",\",1))\n"
   ],
   "id": "2ac08e1633950a50",
   "outputs": [
    {
     "name": "stdout",
     "output_type": "stream",
     "text": [
      "['t,h,o,t,de,trrf', 'ytg']\n"
     ]
    }
   ],
   "execution_count": 41
  },
  {
   "metadata": {},
   "cell_type": "markdown",
   "source": "51. Write a  Python program to find the first non-repeating character in a given string.",
   "id": "fd186f24da6f929e"
  },
  {
   "metadata": {
    "ExecuteTime": {
     "end_time": "2025-04-04T09:03:24.665762Z",
     "start_time": "2025-04-04T09:03:24.655919Z"
    }
   },
   "cell_type": "code",
   "source": [
    "a = \"hello world\"\n",
    "a_list = list(a)\n",
    "a_count = []\n",
    "for i in range(len(a_list)):\n",
    "    if a_list[i] not in a_count:\n",
    "        if a[i] in a_list:\n",
    "            a_count.append(a_list[i])\n",
    "        print(a_count)"
   ],
   "id": "ed50488df645353a",
   "outputs": [
    {
     "name": "stdout",
     "output_type": "stream",
     "text": [
      "['h']\n",
      "['h', 'e']\n",
      "['h', 'e', 'l']\n",
      "['h', 'e', 'l', 'o']\n",
      "['h', 'e', 'l', 'o', ' ']\n",
      "['h', 'e', 'l', 'o', ' ', 'w']\n",
      "['h', 'e', 'l', 'o', ' ', 'w', 'r']\n",
      "['h', 'e', 'l', 'o', ' ', 'w', 'r', 'd']\n"
     ]
    }
   ],
   "execution_count": 50
  }
 ],
 "metadata": {
  "kernelspec": {
   "display_name": "Python 3",
   "language": "python",
   "name": "python3"
  },
  "language_info": {
   "codemirror_mode": {
    "name": "ipython",
    "version": 2
   },
   "file_extension": ".py",
   "mimetype": "text/x-python",
   "name": "python",
   "nbconvert_exporter": "python",
   "pygments_lexer": "ipython2",
   "version": "2.7.6"
  }
 },
 "nbformat": 4,
 "nbformat_minor": 5
}
